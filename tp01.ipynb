{
 "cells": [
  {
   "cell_type": "markdown",
   "id": "7876bfea",
   "metadata": {},
   "source": [
    "# Meta-Heuríticas : Trabalho Prático 1 \n",
    "\n",
    "- Aymê Faustino dos Santos - 4704"
   ]
  },
  {
   "cell_type": "markdown",
   "id": "d04e6124",
   "metadata": {},
   "source": [
    "O trabalho consiste em implementar duas meta-heuríticas para minimizar duas funções objetivo, cada uma em dois intervalos diferentes, sendo o segundo, um intervado mais restrito contido no primeiro intervalo."
   ]
  },
  {
   "cell_type": "markdown",
   "id": "77644a59",
   "metadata": {},
   "source": [
    "## Bibliotecas Necessarias"
   ]
  },
  {
   "cell_type": "code",
   "execution_count": 3,
   "id": "43af4302",
   "metadata": {},
   "outputs": [],
   "source": [
    "import math\n",
    "import random\n",
    "import numpy as np\n",
    "import pandas as pd\n",
    "import seaborn as sns\n",
    "import matplotlib.pyplot as plt\n",
    "from mpl_toolkits.mplot3d import Axes3D"
   ]
  },
  {
   "cell_type": "markdown",
   "id": "8601734c",
   "metadata": {},
   "source": [
    "## 1. Funções Objetivo "
   ]
  },
  {
   "cell_type": "markdown",
   "id": "dfc488c4",
   "metadata": {},
   "source": [
    "### 1.1 Representação da Solução"
   ]
  },
  {
   "cell_type": "markdown",
   "id": "13c3c0a8",
   "metadata": {},
   "source": [
    "Vamos utilizar um vetor para representar as variáveis de decisão. Na função objetivo 1 ele terá tamanho dois pois temos duas variaveis de decisão poŕem na função objetivo 2 temos quatro variaveis de decisão sendo assim ele terá tamanho quatro."
   ]
  },
  {
   "cell_type": "markdown",
   "id": "10cb76b5",
   "metadata": {},
   "source": [
    "### 1.2 Função Objetivo 1"
   ]
  },
  {
   "cell_type": "markdown",
   "id": "793b9275",
   "metadata": {},
   "source": [
    "\n",
    "\n",
    "1.2.1 Intervalos \n",
    "\n",
    "a) - 100 <= x1 e x2 <= 100\n",
    "\n",
    "b) -20 <= x1 e x2 <= 20"
   ]
  },
  {
   "cell_type": "code",
   "execution_count": 1,
   "id": "60a289b8",
   "metadata": {},
   "outputs": [],
   "source": [
    "def f(solucao):\n",
    "    sum_sq = np.sum(np.square(solucao))\n",
    "    raiz = np.sqrt(sum_sq)\n",
    "    return 1 - np.cos(2 * np.pi * raiz) + 0.1 * raiz\n",
    "\n",
    "intervalo1_a = [-100,100]\n",
    "intervalo1_b = [-20,20]"
   ]
  },
  {
   "cell_type": "markdown",
   "id": "8a776b4b",
   "metadata": {},
   "source": [
    "1.2.2 Superficie"
   ]
  },
  {
   "cell_type": "code",
   "execution_count": 2,
   "id": "372382da",
   "metadata": {},
   "outputs": [
    {
     "ename": "NameError",
     "evalue": "name 'plt' is not defined",
     "output_type": "error",
     "traceback": [
      "\u001b[31m---------------------------------------------------------------------------\u001b[39m",
      "\u001b[31mNameError\u001b[39m                                 Traceback (most recent call last)",
      "\u001b[36mCell\u001b[39m\u001b[36m \u001b[39m\u001b[32mIn[2]\u001b[39m\u001b[32m, line 24\u001b[39m\n\u001b[32m     22\u001b[39m intervalos = [(-\u001b[32m100\u001b[39m, \u001b[32m100\u001b[39m), (-\u001b[32m20\u001b[39m, \u001b[32m20\u001b[39m)]\n\u001b[32m     23\u001b[39m titulos = [\u001b[33m'\u001b[39m\u001b[33mIntervalo [-100, 100]\u001b[39m\u001b[33m'\u001b[39m, \u001b[33m'\u001b[39m\u001b[33mIntervalo [-20, 20]\u001b[39m\u001b[33m'\u001b[39m]\n\u001b[32m---> \u001b[39m\u001b[32m24\u001b[39m \u001b[43mplotar_superficies\u001b[49m\u001b[43m(\u001b[49m\u001b[43mintervalos\u001b[49m\u001b[43m,\u001b[49m\u001b[43m \u001b[49m\u001b[43mtitulos\u001b[49m\u001b[43m)\u001b[49m\n",
      "\u001b[36mCell\u001b[39m\u001b[36m \u001b[39m\u001b[32mIn[2]\u001b[39m\u001b[32m, line 2\u001b[39m, in \u001b[36mplotar_superficies\u001b[39m\u001b[34m(intervalos, titulos)\u001b[39m\n\u001b[32m      1\u001b[39m \u001b[38;5;28;01mdef\u001b[39;00m \u001b[34mplotar_superficies\u001b[39m(intervalos, titulos):\n\u001b[32m----> \u001b[39m\u001b[32m2\u001b[39m     fig = \u001b[43mplt\u001b[49m.figure(figsize=(\u001b[32m12\u001b[39m, \u001b[32m5\u001b[39m))  \n\u001b[32m      4\u001b[39m     \u001b[38;5;28;01mfor\u001b[39;00m i, (intervalo, titulo) \u001b[38;5;129;01min\u001b[39;00m \u001b[38;5;28menumerate\u001b[39m(\u001b[38;5;28mzip\u001b[39m(intervalos, titulos), start=\u001b[32m1\u001b[39m):\n\u001b[32m      5\u001b[39m         x = np.linspace(intervalo[\u001b[32m0\u001b[39m], intervalo[\u001b[32m1\u001b[39m], \u001b[32m200\u001b[39m)\n",
      "\u001b[31mNameError\u001b[39m: name 'plt' is not defined"
     ]
    }
   ],
   "source": [
    "def plotar_superficies(intervalos, titulos):\n",
    "    fig = plt.figure(figsize=(12, 5))  \n",
    "\n",
    "    for i, (intervalo, titulo) in enumerate(zip(intervalos, titulos), start=1):\n",
    "        x = np.linspace(intervalo[0], intervalo[1], 200)\n",
    "        y = np.linspace(intervalo[0], intervalo[1], 200)\n",
    "        X, Y = np.meshgrid(x, y)\n",
    "\n",
    "        Z = np.array([[f([x_, y_]) for x_, y_ in zip(x_row, y_row)] \n",
    "                      for x_row, y_row in zip(X, Y)])\n",
    "\n",
    "        ax = fig.add_subplot(1, 2, i, projection='3d')  # 1 linha, 2 colunas\n",
    "        surf = ax.plot_surface(X, Y, Z, cmap='viridis', edgecolor='none')\n",
    "        ax.set_title(titulo)\n",
    "        ax.set_xlabel('x1')\n",
    "        ax.set_ylabel('x2')\n",
    "        ax.set_zlabel('f(x1, x2)')\n",
    "\n",
    "    plt.tight_layout()\n",
    "    plt.show()\n",
    "\n",
    "intervalos = [(-100, 100), (-20, 20)]\n",
    "titulos = ['Intervalo [-100, 100]', 'Intervalo [-20, 20]']\n",
    "plotar_superficies(intervalos, titulos)"
   ]
  },
  {
   "cell_type": "markdown",
   "id": "367ec3f7",
   "metadata": {},
   "source": [
    "### 1.3 Função Objetivo 2"
   ]
  },
  {
   "cell_type": "markdown",
   "id": "629d38b5",
   "metadata": {},
   "source": [
    "1.3.1 Intervalos\n",
    "\n",
    "a)−10 ≤ 𝑥1, 𝑥2, 𝑥3, 𝑥4 ≤ 10\n",
    "\n",
    "b)−2 ≤ 𝑥1, 𝑥2, 𝑥3, 𝑥4 ≤ 2"
   ]
  },
  {
   "cell_type": "code",
   "execution_count": null,
   "id": "53d85c21",
   "metadata": {},
   "outputs": [],
   "source": [
    "def f(x):\n",
    "    return (100 * (x[0]**2 - x[1])**2 +\n",
    "            (x[0] - 1)**2 +\n",
    "            (x[2] - 1)**2 +\n",
    "            90 * (x[2]**2 - x[3])**2 +\n",
    "            10.1 * ((x[1] - 1)**2 + (x[3] - 1)**2) +\n",
    "            19.8 * (x[1] - 1) * (x[3] - 1))\n",
    "\n",
    "intervalo2_a = [-10,10]\n",
    "intervalo2_b = [-2,2]"
   ]
  },
  {
   "cell_type": "markdown",
   "id": "7e906c38",
   "metadata": {},
   "source": [
    "1.3.2 Superficie"
   ]
  },
  {
   "cell_type": "markdown",
   "id": "1b2b0fcf",
   "metadata": {},
   "source": [
    "## 2. Meta-Heuristicas"
   ]
  },
  {
   "cell_type": "markdown",
   "id": "63edad9c",
   "metadata": {},
   "source": [
    "Para minimiziar as funções objetivos vamos utilizar um algoritmo baseado em VNS (Variable Neighborhood Search) e um algoritmo baseado em #Escolher. Antes de implementar cada um deles vamos entender a ideia de cada uma dessas meta-heuristicas e quais decisões precisam ser tomadas em cada uma delas."
   ]
  },
  {
   "cell_type": "markdown",
   "id": "8f32c79c",
   "metadata": {},
   "source": [
    "### 2.1 VNS (Variable Neighborhood Search) "
   ]
  },
  {
   "cell_type": "markdown",
   "id": "9a337a9a",
   "metadata": {},
   "source": [
    "O Variable Neighborhood Search (VNS) é uma metaheurística baseada na exploração sistemática de diferentes vizinhanças para encontrar a solução ótima de um problema. A principal motivação do VNS é evitar ficar preso em ótimos locais, expandindo a busca para outras regiões do espaço de soluções.\n",
    "\n",
    "Ele se baseia na seguinte ideia:\n",
    "- Se uma solução é um ótimo local em uma vizinhança, ela pode não ser em outra.\n",
    "- Alternar entre diferentes vizinhanças ajuda a escapar de ótimos locais e encontrar melhores soluções.\n",
    "\n",
    "VNS é eficiente, simples e versátil, sendo utilizado em problemas de otimização combinatória e contínua."
   ]
  },
  {
   "cell_type": "markdown",
   "id": "12375cb9",
   "metadata": {},
   "source": [
    "#### 2.1.1 Pseudocódigo do VNS Básico\n",
    "\n",
    "Entrada: solução inicial `x`, número máximo de vizinhanças `k_max`, número máximo de iterações\n",
    "\n",
    "1. x_best ← x\n",
    "\n",
    "2. Para t = 1 até max_iter faça:\n",
    "\n",
    "    3. k ← 1\n",
    "\n",
    "    4. Enquanto k ≤ k_max faça:\n",
    "\n",
    "        5.   Gerar x' na k-ésima vizinhança de x_best\n",
    "\n",
    "        6.   Aplicar busca local a partir de x', obtendo x''\n",
    "\n",
    "        7.   Se f(x'') < f(x_best):\n",
    "\n",
    "        8.       x_best ← x''\n",
    "\n",
    "        9.       k ← 1   // reinicia vizinhança\n",
    "\n",
    "        10.  Senão:\n",
    "\n",
    "        11.      k ← k + 1\n",
    "        \n",
    "12. Retornar x_best\n",
    "\n"
   ]
  },
  {
   "cell_type": "markdown",
   "id": "10b252cf",
   "metadata": {},
   "source": [
    "#### 2.1.2 Decisões importantes na implementação do VNS\n",
    "\n",
    "🔹 Solução Inicial\n",
    "\n",
    "🔹 Estrutura de Vizinhança\n",
    "\n",
    "🔹 Método de Perturbação\n",
    "\n",
    "🔹 Condições de Parada\n",
    "\n",
    "🔹 Estratégia de Busca Local\n",
    "\n",
    " 🔹 Quantidade de vizinhanças (k_max)\n",
    "\n"
   ]
  }
 ],
 "metadata": {
  "kernelspec": {
   "display_name": "Python 3",
   "language": "python",
   "name": "python3"
  },
  "language_info": {
   "codemirror_mode": {
    "name": "ipython",
    "version": 3
   },
   "file_extension": ".py",
   "mimetype": "text/x-python",
   "name": "python",
   "nbconvert_exporter": "python",
   "pygments_lexer": "ipython3",
   "version": "3.12.7"
  }
 },
 "nbformat": 4,
 "nbformat_minor": 5
}
